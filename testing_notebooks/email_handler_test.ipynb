{
 "cells": [
  {
   "cell_type": "code",
   "execution_count": 1,
   "metadata": {},
   "outputs": [],
   "source": [
    "from mailfox.email_interface import EmailHandler"
   ]
  },
  {
   "cell_type": "code",
   "execution_count": 2,
   "metadata": {},
   "outputs": [
    {
     "ename": "gaierror",
     "evalue": "[Errno 8] nodename nor servname provided, or not known",
     "output_type": "error",
     "traceback": [
      "\u001b[0;31m---------------------------------------------------------------------------\u001b[0m",
      "\u001b[0;31mgaierror\u001b[0m                                  Traceback (most recent call last)",
      "Cell \u001b[0;32mIn[2], line 7\u001b[0m\n\u001b[1;32m      4\u001b[0m     username \u001b[38;5;241m=\u001b[39m lines[\u001b[38;5;241m0\u001b[39m]\u001b[38;5;241m.\u001b[39mstrip()\n\u001b[1;32m      5\u001b[0m     password \u001b[38;5;241m=\u001b[39m lines[\u001b[38;5;241m1\u001b[39m]\u001b[38;5;241m.\u001b[39mstrip()\n\u001b[0;32m----> 7\u001b[0m email_handler \u001b[38;5;241m=\u001b[39m \u001b[43mEmailHandler\u001b[49m\u001b[43m(\u001b[49m\u001b[43musername\u001b[49m\u001b[43m,\u001b[49m\u001b[43m \u001b[49m\u001b[43mpassword\u001b[49m\u001b[43m)\u001b[49m\n",
      "File \u001b[0;32m~/Documents/GitHub/MailFox/mailfox/email_interface/email_handler.py:15\u001b[0m, in \u001b[0;36mEmailHandler.__init__\u001b[0;34m(self, username, password)\u001b[0m\n\u001b[1;32m     14\u001b[0m \u001b[38;5;28;01mdef\u001b[39;00m \u001b[38;5;21m__init__\u001b[39m(\u001b[38;5;28mself\u001b[39m, username, password):\n\u001b[0;32m---> 15\u001b[0m     \u001b[38;5;28mself\u001b[39m\u001b[38;5;241m.\u001b[39mmail \u001b[38;5;241m=\u001b[39m \u001b[43mimaplib\u001b[49m\u001b[38;5;241;43m.\u001b[39;49m\u001b[43mIMAP4_SSL\u001b[49m\u001b[43m(\u001b[49m\u001b[38;5;124;43m\"\u001b[39;49m\u001b[38;5;124;43mimap.gmail.com\u001b[39;49m\u001b[38;5;124;43m\"\u001b[39;49m\u001b[43m)\u001b[49m\n\u001b[1;32m     16\u001b[0m     \u001b[38;5;28mself\u001b[39m\u001b[38;5;241m.\u001b[39mmail\u001b[38;5;241m.\u001b[39mlogin(username, password)\n\u001b[1;32m     18\u001b[0m     \u001b[38;5;66;03m# if you want SPAM, use \"INBOX.SPAM\"\u001b[39;00m\n",
      "File \u001b[0;32m~/micromamba/envs/ml/lib/python3.10/imaplib.py:1323\u001b[0m, in \u001b[0;36mIMAP4_SSL.__init__\u001b[0;34m(self, host, port, keyfile, certfile, ssl_context, timeout)\u001b[0m\n\u001b[1;32m   1320\u001b[0m     ssl_context \u001b[38;5;241m=\u001b[39m ssl\u001b[38;5;241m.\u001b[39m_create_stdlib_context(certfile\u001b[38;5;241m=\u001b[39mcertfile,\n\u001b[1;32m   1321\u001b[0m                                              keyfile\u001b[38;5;241m=\u001b[39mkeyfile)\n\u001b[1;32m   1322\u001b[0m \u001b[38;5;28mself\u001b[39m\u001b[38;5;241m.\u001b[39mssl_context \u001b[38;5;241m=\u001b[39m ssl_context\n\u001b[0;32m-> 1323\u001b[0m \u001b[43mIMAP4\u001b[49m\u001b[38;5;241;43m.\u001b[39;49m\u001b[38;5;21;43m__init__\u001b[39;49m\u001b[43m(\u001b[49m\u001b[38;5;28;43mself\u001b[39;49m\u001b[43m,\u001b[49m\u001b[43m \u001b[49m\u001b[43mhost\u001b[49m\u001b[43m,\u001b[49m\u001b[43m \u001b[49m\u001b[43mport\u001b[49m\u001b[43m,\u001b[49m\u001b[43m \u001b[49m\u001b[43mtimeout\u001b[49m\u001b[43m)\u001b[49m\n",
      "File \u001b[0;32m~/micromamba/envs/ml/lib/python3.10/imaplib.py:202\u001b[0m, in \u001b[0;36mIMAP4.__init__\u001b[0;34m(self, host, port, timeout)\u001b[0m\n\u001b[1;32m    198\u001b[0m \u001b[38;5;28mself\u001b[39m\u001b[38;5;241m.\u001b[39m_mode_ascii()\n\u001b[1;32m    200\u001b[0m \u001b[38;5;66;03m# Open socket to server.\u001b[39;00m\n\u001b[0;32m--> 202\u001b[0m \u001b[38;5;28;43mself\u001b[39;49m\u001b[38;5;241;43m.\u001b[39;49m\u001b[43mopen\u001b[49m\u001b[43m(\u001b[49m\u001b[43mhost\u001b[49m\u001b[43m,\u001b[49m\u001b[43m \u001b[49m\u001b[43mport\u001b[49m\u001b[43m,\u001b[49m\u001b[43m \u001b[49m\u001b[43mtimeout\u001b[49m\u001b[43m)\u001b[49m\n\u001b[1;32m    204\u001b[0m \u001b[38;5;28;01mtry\u001b[39;00m:\n\u001b[1;32m    205\u001b[0m     \u001b[38;5;28mself\u001b[39m\u001b[38;5;241m.\u001b[39m_connect()\n",
      "File \u001b[0;32m~/micromamba/envs/ml/lib/python3.10/imaplib.py:1336\u001b[0m, in \u001b[0;36mIMAP4_SSL.open\u001b[0;34m(self, host, port, timeout)\u001b[0m\n\u001b[1;32m   1330\u001b[0m \u001b[38;5;28;01mdef\u001b[39;00m \u001b[38;5;21mopen\u001b[39m(\u001b[38;5;28mself\u001b[39m, host\u001b[38;5;241m=\u001b[39m\u001b[38;5;124m'\u001b[39m\u001b[38;5;124m'\u001b[39m, port\u001b[38;5;241m=\u001b[39mIMAP4_SSL_PORT, timeout\u001b[38;5;241m=\u001b[39m\u001b[38;5;28;01mNone\u001b[39;00m):\n\u001b[1;32m   1331\u001b[0m \u001b[38;5;250m    \u001b[39m\u001b[38;5;124;03m\"\"\"Setup connection to remote server on \"host:port\".\u001b[39;00m\n\u001b[1;32m   1332\u001b[0m \u001b[38;5;124;03m        (default: localhost:standard IMAP4 SSL port).\u001b[39;00m\n\u001b[1;32m   1333\u001b[0m \u001b[38;5;124;03m    This connection will be used by the routines:\u001b[39;00m\n\u001b[1;32m   1334\u001b[0m \u001b[38;5;124;03m        read, readline, send, shutdown.\u001b[39;00m\n\u001b[1;32m   1335\u001b[0m \u001b[38;5;124;03m    \"\"\"\u001b[39;00m\n\u001b[0;32m-> 1336\u001b[0m     \u001b[43mIMAP4\u001b[49m\u001b[38;5;241;43m.\u001b[39;49m\u001b[43mopen\u001b[49m\u001b[43m(\u001b[49m\u001b[38;5;28;43mself\u001b[39;49m\u001b[43m,\u001b[49m\u001b[43m \u001b[49m\u001b[43mhost\u001b[49m\u001b[43m,\u001b[49m\u001b[43m \u001b[49m\u001b[43mport\u001b[49m\u001b[43m,\u001b[49m\u001b[43m \u001b[49m\u001b[43mtimeout\u001b[49m\u001b[43m)\u001b[49m\n",
      "File \u001b[0;32m~/micromamba/envs/ml/lib/python3.10/imaplib.py:312\u001b[0m, in \u001b[0;36mIMAP4.open\u001b[0;34m(self, host, port, timeout)\u001b[0m\n\u001b[1;32m    310\u001b[0m \u001b[38;5;28mself\u001b[39m\u001b[38;5;241m.\u001b[39mhost \u001b[38;5;241m=\u001b[39m host\n\u001b[1;32m    311\u001b[0m \u001b[38;5;28mself\u001b[39m\u001b[38;5;241m.\u001b[39mport \u001b[38;5;241m=\u001b[39m port\n\u001b[0;32m--> 312\u001b[0m \u001b[38;5;28mself\u001b[39m\u001b[38;5;241m.\u001b[39msock \u001b[38;5;241m=\u001b[39m \u001b[38;5;28;43mself\u001b[39;49m\u001b[38;5;241;43m.\u001b[39;49m\u001b[43m_create_socket\u001b[49m\u001b[43m(\u001b[49m\u001b[43mtimeout\u001b[49m\u001b[43m)\u001b[49m\n\u001b[1;32m    313\u001b[0m \u001b[38;5;28mself\u001b[39m\u001b[38;5;241m.\u001b[39mfile \u001b[38;5;241m=\u001b[39m \u001b[38;5;28mself\u001b[39m\u001b[38;5;241m.\u001b[39msock\u001b[38;5;241m.\u001b[39mmakefile(\u001b[38;5;124m'\u001b[39m\u001b[38;5;124mrb\u001b[39m\u001b[38;5;124m'\u001b[39m)\n",
      "File \u001b[0;32m~/micromamba/envs/ml/lib/python3.10/imaplib.py:1326\u001b[0m, in \u001b[0;36mIMAP4_SSL._create_socket\u001b[0;34m(self, timeout)\u001b[0m\n\u001b[1;32m   1325\u001b[0m \u001b[38;5;28;01mdef\u001b[39;00m \u001b[38;5;21m_create_socket\u001b[39m(\u001b[38;5;28mself\u001b[39m, timeout):\n\u001b[0;32m-> 1326\u001b[0m     sock \u001b[38;5;241m=\u001b[39m \u001b[43mIMAP4\u001b[49m\u001b[38;5;241;43m.\u001b[39;49m\u001b[43m_create_socket\u001b[49m\u001b[43m(\u001b[49m\u001b[38;5;28;43mself\u001b[39;49m\u001b[43m,\u001b[49m\u001b[43m \u001b[49m\u001b[43mtimeout\u001b[49m\u001b[43m)\u001b[49m\n\u001b[1;32m   1327\u001b[0m     \u001b[38;5;28;01mreturn\u001b[39;00m \u001b[38;5;28mself\u001b[39m\u001b[38;5;241m.\u001b[39mssl_context\u001b[38;5;241m.\u001b[39mwrap_socket(sock,\n\u001b[1;32m   1328\u001b[0m                                         server_hostname\u001b[38;5;241m=\u001b[39m\u001b[38;5;28mself\u001b[39m\u001b[38;5;241m.\u001b[39mhost)\n",
      "File \u001b[0;32m~/micromamba/envs/ml/lib/python3.10/imaplib.py:302\u001b[0m, in \u001b[0;36mIMAP4._create_socket\u001b[0;34m(self, timeout)\u001b[0m\n\u001b[1;32m    300\u001b[0m \u001b[38;5;28;01mif\u001b[39;00m timeout \u001b[38;5;129;01mis\u001b[39;00m \u001b[38;5;129;01mnot\u001b[39;00m \u001b[38;5;28;01mNone\u001b[39;00m:\n\u001b[1;32m    301\u001b[0m     \u001b[38;5;28;01mreturn\u001b[39;00m socket\u001b[38;5;241m.\u001b[39mcreate_connection(address, timeout)\n\u001b[0;32m--> 302\u001b[0m \u001b[38;5;28;01mreturn\u001b[39;00m \u001b[43msocket\u001b[49m\u001b[38;5;241;43m.\u001b[39;49m\u001b[43mcreate_connection\u001b[49m\u001b[43m(\u001b[49m\u001b[43maddress\u001b[49m\u001b[43m)\u001b[49m\n",
      "File \u001b[0;32m~/micromamba/envs/ml/lib/python3.10/socket.py:824\u001b[0m, in \u001b[0;36mcreate_connection\u001b[0;34m(address, timeout, source_address)\u001b[0m\n\u001b[1;32m    822\u001b[0m host, port \u001b[38;5;241m=\u001b[39m address\n\u001b[1;32m    823\u001b[0m err \u001b[38;5;241m=\u001b[39m \u001b[38;5;28;01mNone\u001b[39;00m\n\u001b[0;32m--> 824\u001b[0m \u001b[38;5;28;01mfor\u001b[39;00m res \u001b[38;5;129;01min\u001b[39;00m \u001b[43mgetaddrinfo\u001b[49m\u001b[43m(\u001b[49m\u001b[43mhost\u001b[49m\u001b[43m,\u001b[49m\u001b[43m \u001b[49m\u001b[43mport\u001b[49m\u001b[43m,\u001b[49m\u001b[43m \u001b[49m\u001b[38;5;241;43m0\u001b[39;49m\u001b[43m,\u001b[49m\u001b[43m \u001b[49m\u001b[43mSOCK_STREAM\u001b[49m\u001b[43m)\u001b[49m:\n\u001b[1;32m    825\u001b[0m     af, socktype, proto, canonname, sa \u001b[38;5;241m=\u001b[39m res\n\u001b[1;32m    826\u001b[0m     sock \u001b[38;5;241m=\u001b[39m \u001b[38;5;28;01mNone\u001b[39;00m\n",
      "File \u001b[0;32m~/micromamba/envs/ml/lib/python3.10/socket.py:955\u001b[0m, in \u001b[0;36mgetaddrinfo\u001b[0;34m(host, port, family, type, proto, flags)\u001b[0m\n\u001b[1;32m    952\u001b[0m \u001b[38;5;66;03m# We override this function since we want to translate the numeric family\u001b[39;00m\n\u001b[1;32m    953\u001b[0m \u001b[38;5;66;03m# and socket type values to enum constants.\u001b[39;00m\n\u001b[1;32m    954\u001b[0m addrlist \u001b[38;5;241m=\u001b[39m []\n\u001b[0;32m--> 955\u001b[0m \u001b[38;5;28;01mfor\u001b[39;00m res \u001b[38;5;129;01min\u001b[39;00m \u001b[43m_socket\u001b[49m\u001b[38;5;241;43m.\u001b[39;49m\u001b[43mgetaddrinfo\u001b[49m\u001b[43m(\u001b[49m\u001b[43mhost\u001b[49m\u001b[43m,\u001b[49m\u001b[43m \u001b[49m\u001b[43mport\u001b[49m\u001b[43m,\u001b[49m\u001b[43m \u001b[49m\u001b[43mfamily\u001b[49m\u001b[43m,\u001b[49m\u001b[43m \u001b[49m\u001b[38;5;28;43mtype\u001b[39;49m\u001b[43m,\u001b[49m\u001b[43m \u001b[49m\u001b[43mproto\u001b[49m\u001b[43m,\u001b[49m\u001b[43m \u001b[49m\u001b[43mflags\u001b[49m\u001b[43m)\u001b[49m:\n\u001b[1;32m    956\u001b[0m     af, socktype, proto, canonname, sa \u001b[38;5;241m=\u001b[39m res\n\u001b[1;32m    957\u001b[0m     addrlist\u001b[38;5;241m.\u001b[39mappend((_intenum_converter(af, AddressFamily),\n\u001b[1;32m    958\u001b[0m                      _intenum_converter(socktype, SocketKind),\n\u001b[1;32m    959\u001b[0m                      proto, canonname, sa))\n",
      "\u001b[0;31mgaierror\u001b[0m: [Errno 8] nodename nor servname provided, or not known"
     ]
    }
   ],
   "source": [
    "# Read credentials from txt file\n",
    "with open('credentials.txt') as f:\n",
    "    lines = f.readlines()\n",
    "    username = lines[0].strip()\n",
    "    password = lines[1].strip()\n",
    "\n",
    "email_handler = EmailHandler(username, password)"
   ]
  },
  {
   "cell_type": "code",
   "execution_count": null,
   "metadata": {},
   "outputs": [],
   "source": [
    "uids = email_handler.get_all_mail_uids()\n",
    "folders = email_handler.get_all_folders()\n",
    "\n",
    "folder_uids = email_handler.get_folder_uids('Notifications')\n",
    "folder_uuids = email_handler.get_folder_uuids('Notifications')"
   ]
  },
  {
   "cell_type": "code",
   "execution_count": 5,
   "metadata": {},
   "outputs": [
    {
     "data": {
      "text/plain": [
       "['<6136493477b735c4c8c16db49855755248e2fab7-20263923-111331759@google.com>',\n",
       " '<0101018f940628ba-031a6988-cd1e-4269-aa3c-e1f6f8111acb-000000@us-west-2.amazonses.com>',\n",
       " '<NM6BE2C96480A26A190prod@studentaid.gov>',\n",
       " '<#sodium.secretbox#ae44ae6dc8648d4e0fa1d0e4e5defa2cfcbcdacf8d123032#7b439901739b22f0fce6abb22f274828aabb0a0c8f5bc4beee7f424291878f58b051e57941437d7eaca9a07638842759e5d54edbb43a2e70c99b8c68bd354365dc3fea1530f3296a1727ad6d678125ae3d1949baca@emailrelay.com>',\n",
       " '<ffb648b6a52a47b6a09c8b56191dcd4e@squarespace.com>',\n",
       " '<101907813aeae4ebc336fe5f2d3f4748a6d20732-20282367-111478650@google.com>',\n",
       " '<9bc006ba-c17c-433b-95f3-842ae53a2a75_cffcfaab-39c1-451a-865d-76ec573b2598_20240517204338@thetatau.org>',\n",
       " '<052ce87d-7dbe-492c-befd-ba7dfab6b431_cffcfaab-39c1-451a-865d-76ec573b2598_20240517184514@thetatau.org>',\n",
       " '<NM6BDD7ABAE0A2652EFprod@studentaid.gov>',\n",
       " '<936efae5-1a9d-43e4-9724-71f2f915b5ac_cffcfaab-39c1-451a-865d-76ec573b2598_20240516204349@thetatau.org>',\n",
       " '<4bf09210-be95-4e2f-9ca8-4fdf8d7fe0b9_cffcfaab-39c1-451a-865d-76ec573b2598_20240418190651@thetatau.org>',\n",
       " '<#sodium.secretbox#02758a16de7ebb65b486137702ee399ad411232116e14a4b#a28b44cb9d0c1b92329223af40870082ab0fcacd6abdee41a7d650a6ae871147923414324651e5f2a7a07e876f4b37f54e7a3550d51122d425505761e9d4e186cffa35e39e5af31a69170dd10401196d1c0d5801b9@emailrelay.com>',\n",
       " '<20240423173258.35133995.932476@sailthru.com>',\n",
       " '<#sodium.secretbox#18975527beb3235ffd94ccfff01b8cf9914e99bea2286b3a#9d2c59dc1ef9b3188d3b52918a2eb43f41259cd298ee2d6d7df920af560c3fa5eaec9f4186ca815184ad00709be694a65d5b14f2848eeb313f06163b370e2897a0ee1bc4167f2e4d6ded0622c6a8a3e11aac49233f@emailrelay.com>',\n",
       " '<#sodium.secretbox#b340fee25948a9eb921879f789605914790bc476ec0558af#b43744bf15b46909b6dcde497bf063f51b6a66d4583bee2165bc1e11bc074b2994580a6c1e99db1bf4a66dcc27b162a46825d947ec5c6c209a1a7f6b890eddf493140f8858e7c6abaf18eae2214db978ed41df6db2@emailrelay.com>',\n",
       " '<2e2b9906-f238-11ee-a41d-f32936e352a3@facebookmail.com>',\n",
       " '<57beb1ae-dce7-4de0-bcf7-c5b762cefbdc_cffcfaab-39c1-451a-865d-76ec573b2598_20240415211525@thetatau.org>',\n",
       " '<bb5f9559-0435-4fc0-ba91-b778a09125e1_cffcfaab-39c1-451a-865d-76ec573b2598_20240417211543@thetatau.org>',\n",
       " '<#sodium.secretbox#5cc28d72a52d8fc0a001da17a036cb0838800ccbdb332416#9e04d54db02919f7b4833f91c6c10a21c44a66d269f3fb4727b4937be15a750a757ff0b9656a5e550a3c53101c669e9560af278a0c14d9370df21df0270847fe4876bec8b71c8ea054538ff0e46bcbd94e45ceb5b0@emailrelay.com>',\n",
       " '<e453a200-b393-40a6-9403-cb766e1263f6_cffcfaab-39c1-451a-865d-76ec573b2598_20240503150036@thetatau.org>',\n",
       " '<6bdbf19d-f2a9-40e3-a17e-4146ec738bda_cffcfaab-39c1-451a-865d-76ec573b2598_20240501150020@thetatau.org>',\n",
       " '<NM636B15E4F0A8ECAA3rt@studentaid.gov>',\n",
       " '<NM636B15F700A8ECA57rt@studentaid.gov>']"
      ]
     },
     "execution_count": 5,
     "metadata": {},
     "output_type": "execute_result"
    }
   ],
   "source": [
    "folder_uuids"
   ]
  },
  {
   "cell_type": "code",
   "execution_count": 4,
   "metadata": {},
   "outputs": [
    {
     "name": "stdout",
     "output_type": "stream",
     "text": [
      "Failed to create folder test_folder\n"
     ]
    }
   ],
   "source": [
    "email_handler.create_folder('test_folder')"
   ]
  },
  {
   "cell_type": "code",
   "execution_count": 5,
   "metadata": {},
   "outputs": [
    {
     "data": {
      "text/plain": [
       "'113'"
      ]
     },
     "execution_count": 5,
     "metadata": {},
     "output_type": "execute_result"
    }
   ],
   "source": [
    "uids[0]"
   ]
  },
  {
   "cell_type": "code",
   "execution_count": 6,
   "metadata": {},
   "outputs": [],
   "source": [
    "# mail = email_handler.get_mail(filter='uids', uids=uids[0:10])\n",
    "# mail"
   ]
  },
  {
   "cell_type": "code",
   "execution_count": 7,
   "metadata": {},
   "outputs": [
    {
     "data": {
      "application/vnd.jupyter.widget-view+json": {
       "model_id": "23da043d917f4208b5af6dbd6ac4a06b",
       "version_major": 2,
       "version_minor": 0
      },
      "text/plain": [
       "Processing Folders:   0%|          | 0/2 [00:00<?, ?it/s]"
      ]
     },
     "metadata": {},
     "output_type": "display_data"
    },
    {
     "data": {
      "application/vnd.jupyter.widget-view+json": {
       "model_id": "87457feb380b4fceb65d9bf42baeaf0a",
       "version_major": 2,
       "version_minor": 0
      },
      "text/plain": [
       "Getting Emails from Newsletters:   0%|          | 0/73 [00:00<?, ?it/s]"
      ]
     },
     "metadata": {},
     "output_type": "display_data"
    },
    {
     "data": {
      "application/vnd.jupyter.widget-view+json": {
       "model_id": "2ed2d107c95643fbbd76d51f825463e0",
       "version_major": 2,
       "version_minor": 0
      },
      "text/plain": [
       "Getting Emails from Notifications:   0%|          | 0/23 [00:00<?, ?it/s]"
      ]
     },
     "metadata": {},
     "output_type": "display_data"
    },
    {
     "data": {
      "text/html": [
       "<div>\n",
       "<style scoped>\n",
       "    .dataframe tbody tr th:only-of-type {\n",
       "        vertical-align: middle;\n",
       "    }\n",
       "\n",
       "    .dataframe tbody tr th {\n",
       "        vertical-align: top;\n",
       "    }\n",
       "\n",
       "    .dataframe thead th {\n",
       "        text-align: right;\n",
       "    }\n",
       "</style>\n",
       "<table border=\"1\" class=\"dataframe\">\n",
       "  <thead>\n",
       "    <tr style=\"text-align: right;\">\n",
       "      <th></th>\n",
       "      <th>uid</th>\n",
       "      <th>uuid</th>\n",
       "      <th>from</th>\n",
       "      <th>to</th>\n",
       "      <th>subject</th>\n",
       "      <th>date</th>\n",
       "      <th>body</th>\n",
       "    </tr>\n",
       "  </thead>\n",
       "  <tbody>\n",
       "    <tr>\n",
       "      <th>0</th>\n",
       "      <td>1</td>\n",
       "      <td>&lt;1919313939.9078276.1716180976128@lor1-app9081...</td>\n",
       "      <td>LinkedIn &lt;messages-noreply@linkedin.com&gt;</td>\n",
       "      <td>Alex Korte &lt;alex.k.korte@gmail.com&gt;</td>\n",
       "      <td>Next steps to grow in your career</td>\n",
       "      <td>Sun, 19 May 2024 22:56:16</td>\n",
       "      <td>Now, take these next steps for more success\\r\\...</td>\n",
       "    </tr>\n",
       "    <tr>\n",
       "      <th>1</th>\n",
       "      <td>2</td>\n",
       "      <td>&lt;FA.B6.28464.3E04A466@hc.mta1vrest.cc.prd.spar...</td>\n",
       "      <td>\"Tripadvisor\" &lt;inspiration@mp1.tripadvisor.com&gt;</td>\n",
       "      <td>alex.k.korte@gmail.com</td>\n",
       "      <td>b'Where to go next month \\xf0\\x9f\\x98\\x8e'</td>\n",
       "      <td>Sun, 19 May 2024 12:11:47</td>\n",
       "      <td>Plus, a road trip through northern Italy.&amp;zwnj...</td>\n",
       "    </tr>\n",
       "    <tr>\n",
       "      <th>2</th>\n",
       "      <td>3</td>\n",
       "      <td>&lt;c96e7f3d-feef-4fbd-aa3a-954993c1d0e2@atl1s11m...</td>\n",
       "      <td>\"Urban Outfitters\" &lt;urbanoutfitters@s.urbanout...</td>\n",
       "      <td>&lt;alex.k.korte@gmail.com&gt;</td>\n",
       "      <td>b'we\\xe2\\x80\\x99re giving you $30 \\xf0\\x9f\\xa4...</td>\n",
       "      <td>Sun, 19 May 2024 09:37:27</td>\n",
       "      <td>\\r\\n\\r\\n\\r\\n\\r\\n\\r\\n\\r\\n\\r\\n \\r\\n  &amp;zwnj; &amp;zwn...</td>\n",
       "    </tr>\n",
       "    <tr>\n",
       "      <th>3</th>\n",
       "      <td>4</td>\n",
       "      <td>&lt;7Osk6v9MRlWlxS3PnSzaBg@geopod-ismtpd-0&gt;</td>\n",
       "      <td>Parks Project &lt;parksproject@parksproject.us&gt;</td>\n",
       "      <td>alex.k.korte@gmail.com</td>\n",
       "      <td>Discover the Ultimate Outdoor Gear with a Pean...</td>\n",
       "      <td>Sun, 19 May 2024 09:07:54</td>\n",
       "      <td>[THE 3-IN-1 PONCHO](https://www.parksproject.u...</td>\n",
       "    </tr>\n",
       "    <tr>\n",
       "      <th>4</th>\n",
       "      <td>5</td>\n",
       "      <td>&lt;A7.B9.35376.C741A466@gt.mta2vrest.cc.prd.spar...</td>\n",
       "      <td>NYT Cooking &lt;nytdirect@nytimes.com&gt;</td>\n",
       "      <td>alex.k.korte@gmail.com</td>\n",
       "      <td>Korean fried chicken to save your Sunday</td>\n",
       "      <td>Sun, 19 May 2024 09:02:20</td>\n",
       "      <td>&lt;!DOCTYPE html&gt;&lt;html xmlns=\"http://www.w3.org/...</td>\n",
       "    </tr>\n",
       "    <tr>\n",
       "      <th>...</th>\n",
       "      <td>...</td>\n",
       "      <td>...</td>\n",
       "      <td>...</td>\n",
       "      <td>...</td>\n",
       "      <td>...</td>\n",
       "      <td>...</td>\n",
       "      <td>...</td>\n",
       "    </tr>\n",
       "    <tr>\n",
       "      <th>89</th>\n",
       "      <td>23</td>\n",
       "      <td>&lt;bb5f9559-0435-4fc0-ba91-b778a09125e1_cffcfaab...</td>\n",
       "      <td>Central Office &lt;central.office@thetatau.org&gt;</td>\n",
       "      <td>Alex Korte &lt;alex.k.korte@gmail.com&gt;</td>\n",
       "      <td>Chapter Awards 2024 - Now Open!</td>\n",
       "      <td>Wed, 17 Apr 2024 15:15:43</td>\n",
       "      <td>Dear Members,The Central Office is pleased to...</td>\n",
       "    </tr>\n",
       "    <tr>\n",
       "      <th>90</th>\n",
       "      <td>24</td>\n",
       "      <td>&lt;#sodium.secretbox#5cc28d72a52d8fc0a001da17a03...</td>\n",
       "      <td>thereserveatclemson@emailrelay.com</td>\n",
       "      <td>alex.k.korte@gmail.com</td>\n",
       "      <td>Fuel Up For Finals Tomorrow!</td>\n",
       "      <td>Sun, 28 Apr 2024 20:20:32</td>\n",
       "      <td></td>\n",
       "    </tr>\n",
       "    <tr>\n",
       "      <th>91</th>\n",
       "      <td>26</td>\n",
       "      <td>&lt;e453a200-b393-40a6-9403-cb766e1263f6_cffcfaab...</td>\n",
       "      <td>Central Office &lt;central.office@thetatau.org&gt;</td>\n",
       "      <td>Alex Korte &lt;alex.k.korte@gmail.com&gt;</td>\n",
       "      <td>Chapter Awards 2024 - Deadline Approaching!</td>\n",
       "      <td>Fri, 03 May 2024 09:00:36</td>\n",
       "      <td>Dear Members,We're excited to see all the gre...</td>\n",
       "    </tr>\n",
       "    <tr>\n",
       "      <th>92</th>\n",
       "      <td>27</td>\n",
       "      <td>&lt;6bdbf19d-f2a9-40e3-a17e-4146ec738bda_cffcfaab...</td>\n",
       "      <td>Central Office &lt;central.office@thetatau.org&gt;</td>\n",
       "      <td>Alex Korte &lt;alex.k.korte@gmail.com&gt;</td>\n",
       "      <td>Chapter Awards 2024 - Deadline Approaching!</td>\n",
       "      <td>Wed, 01 May 2024 09:00:20</td>\n",
       "      <td>Dear Members,We're excited to see all the gre...</td>\n",
       "    </tr>\n",
       "    <tr>\n",
       "      <th>93</th>\n",
       "      <td>29</td>\n",
       "      <td>&lt;NM636B15F700A8ECA57rt@studentaid.gov&gt;</td>\n",
       "      <td>\"U.S. Department of Education\" &lt;donotreply@stu...</td>\n",
       "      <td>&lt;alex.k.korte@gmail.com&gt;</td>\n",
       "      <td>Your consent to request IRS information is con...</td>\n",
       "      <td>Sun, 19 May 2024 23:49:08</td>\n",
       "      <td>This confirms consent for us to request tax in...</td>\n",
       "    </tr>\n",
       "  </tbody>\n",
       "</table>\n",
       "<p>94 rows × 7 columns</p>\n",
       "</div>"
      ],
      "text/plain": [
       "   uid                                               uuid  \\\n",
       "0    1  <1919313939.9078276.1716180976128@lor1-app9081...   \n",
       "1    2  <FA.B6.28464.3E04A466@hc.mta1vrest.cc.prd.spar...   \n",
       "2    3  <c96e7f3d-feef-4fbd-aa3a-954993c1d0e2@atl1s11m...   \n",
       "3    4           <7Osk6v9MRlWlxS3PnSzaBg@geopod-ismtpd-0>   \n",
       "4    5  <A7.B9.35376.C741A466@gt.mta2vrest.cc.prd.spar...   \n",
       "..  ..                                                ...   \n",
       "89  23  <bb5f9559-0435-4fc0-ba91-b778a09125e1_cffcfaab...   \n",
       "90  24  <#sodium.secretbox#5cc28d72a52d8fc0a001da17a03...   \n",
       "91  26  <e453a200-b393-40a6-9403-cb766e1263f6_cffcfaab...   \n",
       "92  27  <6bdbf19d-f2a9-40e3-a17e-4146ec738bda_cffcfaab...   \n",
       "93  29             <NM636B15F700A8ECA57rt@studentaid.gov>   \n",
       "\n",
       "                                                 from  \\\n",
       "0            LinkedIn <messages-noreply@linkedin.com>   \n",
       "1     \"Tripadvisor\" <inspiration@mp1.tripadvisor.com>   \n",
       "2   \"Urban Outfitters\" <urbanoutfitters@s.urbanout...   \n",
       "3        Parks Project <parksproject@parksproject.us>   \n",
       "4                 NYT Cooking <nytdirect@nytimes.com>   \n",
       "..                                                ...   \n",
       "89       Central Office <central.office@thetatau.org>   \n",
       "90                 thereserveatclemson@emailrelay.com   \n",
       "91       Central Office <central.office@thetatau.org>   \n",
       "92       Central Office <central.office@thetatau.org>   \n",
       "93  \"U.S. Department of Education\" <donotreply@stu...   \n",
       "\n",
       "                                     to  \\\n",
       "0   Alex Korte <alex.k.korte@gmail.com>   \n",
       "1                alex.k.korte@gmail.com   \n",
       "2              <alex.k.korte@gmail.com>   \n",
       "3                alex.k.korte@gmail.com   \n",
       "4                alex.k.korte@gmail.com   \n",
       "..                                  ...   \n",
       "89  Alex Korte <alex.k.korte@gmail.com>   \n",
       "90               alex.k.korte@gmail.com   \n",
       "91  Alex Korte <alex.k.korte@gmail.com>   \n",
       "92  Alex Korte <alex.k.korte@gmail.com>   \n",
       "93             <alex.k.korte@gmail.com>   \n",
       "\n",
       "                                              subject  \\\n",
       "0                   Next steps to grow in your career   \n",
       "1          b'Where to go next month \\xf0\\x9f\\x98\\x8e'   \n",
       "2   b'we\\xe2\\x80\\x99re giving you $30 \\xf0\\x9f\\xa4...   \n",
       "3   Discover the Ultimate Outdoor Gear with a Pean...   \n",
       "4            Korean fried chicken to save your Sunday   \n",
       "..                                                ...   \n",
       "89                    Chapter Awards 2024 - Now Open!   \n",
       "90                       Fuel Up For Finals Tomorrow!   \n",
       "91        Chapter Awards 2024 - Deadline Approaching!   \n",
       "92        Chapter Awards 2024 - Deadline Approaching!   \n",
       "93  Your consent to request IRS information is con...   \n",
       "\n",
       "                         date  \\\n",
       "0   Sun, 19 May 2024 22:56:16   \n",
       "1   Sun, 19 May 2024 12:11:47   \n",
       "2   Sun, 19 May 2024 09:37:27   \n",
       "3   Sun, 19 May 2024 09:07:54   \n",
       "4   Sun, 19 May 2024 09:02:20   \n",
       "..                        ...   \n",
       "89  Wed, 17 Apr 2024 15:15:43   \n",
       "90  Sun, 28 Apr 2024 20:20:32   \n",
       "91  Fri, 03 May 2024 09:00:36   \n",
       "92  Wed, 01 May 2024 09:00:20   \n",
       "93  Sun, 19 May 2024 23:49:08   \n",
       "\n",
       "                                                 body  \n",
       "0   Now, take these next steps for more success\\r\\...  \n",
       "1   Plus, a road trip through northern Italy.&zwnj...  \n",
       "2   \\r\\n\\r\\n\\r\\n\\r\\n\\r\\n\\r\\n\\r\\n \\r\\n  &zwnj; &zwn...  \n",
       "3   [THE 3-IN-1 PONCHO](https://www.parksproject.u...  \n",
       "4   <!DOCTYPE html><html xmlns=\"http://www.w3.org/...  \n",
       "..                                                ...  \n",
       "89   Dear Members,The Central Office is pleased to...  \n",
       "90                                                     \n",
       "91   Dear Members,We're excited to see all the gre...  \n",
       "92   Dear Members,We're excited to see all the gre...  \n",
       "93  This confirms consent for us to request tax in...  \n",
       "\n",
       "[94 rows x 7 columns]"
      ]
     },
     "execution_count": 7,
     "metadata": {},
     "output_type": "execute_result"
    }
   ],
   "source": [
    "mail = email_handler.get_mail(filter='seen', folders=['Newsletters', 'Notifications'])\n",
    "mail"
   ]
  },
  {
   "cell_type": "code",
   "execution_count": null,
   "metadata": {},
   "outputs": [],
   "source": []
  }
 ],
 "metadata": {
  "kernelspec": {
   "display_name": "Python 3",
   "language": "python",
   "name": "python3"
  },
  "language_info": {
   "codemirror_mode": {
    "name": "ipython",
    "version": 3
   },
   "file_extension": ".py",
   "mimetype": "text/x-python",
   "name": "python",
   "nbconvert_exporter": "python",
   "pygments_lexer": "ipython3",
   "version": "3.10.13"
  }
 },
 "nbformat": 4,
 "nbformat_minor": 2
}
