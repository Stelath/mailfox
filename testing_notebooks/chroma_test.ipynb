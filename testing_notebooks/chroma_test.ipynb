{
 "cells": [
  {
   "cell_type": "code",
   "execution_count": 7,
   "metadata": {},
   "outputs": [],
   "source": [
    "import uuid\n",
    "import chromadb\n",
    "import numpy as np\n",
    "import pandas as pd\n",
    "from tqdm.auto import tqdm\n",
    "\n",
    "from mailfox.vector import VectorDatabase\n",
    "from mailfox.vector import Clustering"
   ]
  },
  {
   "cell_type": "code",
   "execution_count": 8,
   "metadata": {},
   "outputs": [],
   "source": [
    "vdb = VectorDatabase()"
   ]
  },
  {
   "cell_type": "code",
   "execution_count": 3,
   "metadata": {},
   "outputs": [],
   "source": [
    "\n",
    "# Load the emails\n",
    "df = pd.read_parquet('emails.parquet')\n",
    "# create a new column 'ids' and fill it with random uuids\n",
    "df['id'] = [str(uuid.uuid4()) for _ in range(len(df))]"
   ]
  },
  {
   "cell_type": "code",
   "execution_count": 4,
   "metadata": {},
   "outputs": [
    {
     "name": "stderr",
     "output_type": "stream",
     "text": [
      "  0%|          | 0/500 [00:00<?, ?it/s]"
     ]
    },
    {
     "name": "stderr",
     "output_type": "stream",
     "text": [
      "501it [00:39, 12.83it/s]                         \n"
     ]
    }
   ],
   "source": [
    "for i, row in tqdm(df.iterrows(), total=500):\n",
    "    embeddings = vdb.default_ef([row['Body']])\n",
    "    vdb.emails_collection.add(\n",
    "        embeddings=embeddings,\n",
    "        # documents=[row['Body']],\n",
    "        ids=[row['uuid']],\n",
    "    )\n",
    "    \n",
    "    if i > 500:\n",
    "        break"
   ]
  },
  {
   "cell_type": "code",
   "execution_count": 5,
   "metadata": {},
   "outputs": [
    {
     "data": {
      "text/plain": [
       "(502, 384)"
      ]
     },
     "execution_count": 5,
     "metadata": {},
     "output_type": "execute_result"
    }
   ],
   "source": [
    "data = vdb.get_all_embeddings(vdb.emails_collection)\n",
    "data['embeddings'].shape"
   ]
  },
  {
   "cell_type": "code",
   "execution_count": 6,
   "metadata": {},
   "outputs": [],
   "source": [
    "clustering = Clustering(data=data['embeddings'])"
   ]
  },
  {
   "cell_type": "code",
   "execution_count": 7,
   "metadata": {},
   "outputs": [],
   "source": [
    "clustering.fit()"
   ]
  },
  {
   "cell_type": "code",
   "execution_count": 8,
   "metadata": {},
   "outputs": [
    {
     "data": {
      "text/plain": [
       "(27, 101)"
      ]
     },
     "execution_count": 8,
     "metadata": {},
     "output_type": "execute_result"
    }
   ],
   "source": [
    "clustering.clusterer.centroids_.shape"
   ]
  },
  {
   "cell_type": "code",
   "execution_count": 9,
   "metadata": {},
   "outputs": [
    {
     "data": {
      "text/plain": [
       "1.2214278440376731"
      ]
     },
     "execution_count": 9,
     "metadata": {},
     "output_type": "execute_result"
    }
   ],
   "source": [
    "from sklearn.metrics import pairwise_distances\n",
    "import numpy as np\n",
    "\n",
    "# calculate pairwise distances\n",
    "distances = pairwise_distances(clustering.data)\n",
    "\n",
    "# calculate average distance\n",
    "average_distance = np.mean(distances)\n",
    "\n",
    "average_distance"
   ]
  },
  {
   "cell_type": "code",
   "execution_count": 10,
   "metadata": {},
   "outputs": [
    {
     "data": {
      "text/plain": [
       "array([-1,  0,  4,  9,  5, 22,  1, 25, 26, -1, -1, 10,  0, 23,  0,  2, 21,\n",
       "       23, -1, -1, -1, -1,  0, -1,  5,  9, 18, 21,  0, 18, -1,  0, 21,  4,\n",
       "       -1,  4, 19, 26, 26, 25, 21,  4, 10, -1, 24,  6,  4,  8,  0,  9,  5,\n",
       "       10,  0,  8,  5, -1,  7,  0,  1, 25, 13,  1, -1, 25,  0, -1, 18, -1,\n",
       "        0, 19,  0,  0, 10,  0, 16, -1, 14, 24, 18, 16, -1,  2, -1,  4, -1,\n",
       "       20,  0, -1,  7,  0,  5, 25,  2, -1,  0, 24,  6, 10, 23, 15, -1, -1,\n",
       "       -1,  2, -1, 10,  0, 26, -1, -1,  0,  3,  2, -1,  0, 12,  1,  3,  0,\n",
       "       25, -1,  0,  0, 10, 22, -1, -1, -1, 26,  9, 10, -1, -1, -1,  0, -1,\n",
       "        0, -1,  9, -1,  0,  0, 10, 11, 26, -1,  9,  9, 24, -1, 25,  2, -1,\n",
       "        0, 19,  8, -1, -1, 24, -1, 20, 18, 18,  4, -1,  8,  0, 25,  2, 22,\n",
       "       26, 17, 10, 15,  1, -1, 25,  1, -1, 25,  0, 25, 22, 10, -1,  0,  6,\n",
       "        9, 18,  5, 26, -1,  5,  0, 14,  3, 10, -1,  0,  0, 18, 23, 25, 18,\n",
       "        8,  4,  9,  0, 11, 12, -1,  6,  4,  9, -1, -1, 23, 25, -1,  8,  9,\n",
       "       -1,  2, 13, 16,  0, 26, -1, 14, -1,  7,  7, 26, -1,  2,  4, -1, 18,\n",
       "       10, 12, 21, 19,  1, -1, 25, -1, 14,  7, -1,  0, -1, 25, -1, -1, 18,\n",
       "        5, -1, 25,  0, -1, -1,  0, -1, -1, 15, 10, 14, 16,  0, -1, 24, 20,\n",
       "       20,  2, -1,  0, 25,  0, 18, 21,  9, -1, -1, 25,  0,  9,  8,  0,  0,\n",
       "        0, -1, -1,  8, 18, 23, 25,  0,  0,  4, -1, 26, 18, 13, -1, 10, 17,\n",
       "       23, -1, -1,  0,  7,  0,  0, 26,  1, 17,  0, -1, 11, -1, -1, 18, 10,\n",
       "       13, -1, 23, -1, -1, -1, -1, 22, -1,  5, -1, -1,  0, -1, 18,  2, -1,\n",
       "       10,  0, 26,  0, 16, -1, 10,  8,  0, 21, 18,  0,  9, -1, 26, 15, 26,\n",
       "       -1,  2,  4, 21, 11,  9, 20, -1,  2, -1, -1, -1,  0, -1, 25,  0, -1,\n",
       "       10, 17, -1, -1, -1,  0, -1,  9, -1, 26, -1,  9, 21, 18, -1,  0,  4,\n",
       "       -1,  0, 20,  9, 17, 21,  6, 26,  0, -1, -1,  0, -1,  0, 19, -1, 18,\n",
       "       -1, -1, 17,  6,  0, 15,  4, 18, 10, 11,  0, -1,  1, -1, -1, 26,  0,\n",
       "        3,  0, -1, 26,  0, -1,  7, -1, -1, 23,  3,  2,  6, 19, 16,  6, 26,\n",
       "       11,  0,  0, -1, -1, -1, -1, 25, 15, -1,  0,  3,  0,  3,  2, -1,  0,\n",
       "       -1,  0, 13,  8,  5,  4,  0, 26,  4, 10,  0,  0, 25,  5,  9, 12, 25,\n",
       "       10,  3,  9, 24,  0,  0,  5,  0, 18,  7,  9, -1,  2, 10, -1, 17,  0,\n",
       "       -1,  8, 26,  1,  5, 12,  4,  1, -1])"
      ]
     },
     "execution_count": 10,
     "metadata": {},
     "output_type": "execute_result"
    }
   ],
   "source": [
    "clustering.clusterer.labels_"
   ]
  },
  {
   "cell_type": "code",
   "execution_count": 10,
   "metadata": {},
   "outputs": [
    {
     "ename": "NameError",
     "evalue": "name 'embed' is not defined",
     "output_type": "error",
     "traceback": [
      "\u001b[0;31m---------------------------------------------------------------------------\u001b[0m",
      "\u001b[0;31mNameError\u001b[0m                                 Traceback (most recent call last)",
      "Cell \u001b[0;32mIn[10], line 1\u001b[0m\n\u001b[0;32m----> 1\u001b[0m pairwise_distances(clustering\u001b[38;5;241m.\u001b[39mpca\u001b[38;5;241m.\u001b[39mtransform(\u001b[43membed\u001b[49m), clustering\u001b[38;5;241m.\u001b[39mclusterer\u001b[38;5;241m.\u001b[39mcentroids_)\n",
      "\u001b[0;31mNameError\u001b[0m: name 'embed' is not defined"
     ]
    }
   ],
   "source": [
    "pairwise_distances(clustering.pca.transform(embed), clustering.clusterer.centroids_)"
   ]
  },
  {
   "cell_type": "code",
   "execution_count": 17,
   "metadata": {},
   "outputs": [
    {
     "name": "stdout",
     "output_type": "stream",
     "text": [
      "[[1.05367121e-08]] [[0]]\n"
     ]
    },
    {
     "data": {
      "text/plain": [
       "0"
      ]
     },
     "execution_count": 17,
     "metadata": {},
     "output_type": "execute_result"
    }
   ],
   "source": [
    "embed = vdb.embed([df.loc[df['id'] == data['ids'][1]]['Body'].values[0]])\n",
    "# embed = vdb.embed([df.iloc[0]['Body']])\n",
    "# embed = [data['embeddings'][0]]\n",
    "clustering.predict(embed, threshold=10)"
   ]
  },
  {
   "cell_type": "code",
   "execution_count": 15,
   "metadata": {},
   "outputs": [
    {
     "data": {
      "text/plain": [
       "array([[2.98023224e-08]])"
      ]
     },
     "execution_count": 15,
     "metadata": {},
     "output_type": "execute_result"
    }
   ],
   "source": [
    "pairwise_distances(vdb.embed([df.loc[df['id'] == data['ids'][0]]['Body'].values[0]]), [data['embeddings'][0]])"
   ]
  },
  {
   "cell_type": "code",
   "execution_count": 6,
   "metadata": {},
   "outputs": [],
   "source": [
    "collection_query = emails_collection.query(query_texts=[\"I love to eat tickets\"], include=['embeddings'])"
   ]
  },
  {
   "cell_type": "code",
   "execution_count": 26,
   "metadata": {},
   "outputs": [
    {
     "data": {
      "text/html": [
       "<div>\n",
       "<style scoped>\n",
       "    .dataframe tbody tr th:only-of-type {\n",
       "        vertical-align: middle;\n",
       "    }\n",
       "\n",
       "    .dataframe tbody tr th {\n",
       "        vertical-align: top;\n",
       "    }\n",
       "\n",
       "    .dataframe thead th {\n",
       "        text-align: right;\n",
       "    }\n",
       "</style>\n",
       "<table border=\"1\" class=\"dataframe\">\n",
       "  <thead>\n",
       "    <tr style=\"text-align: right;\">\n",
       "      <th></th>\n",
       "      <th>Date</th>\n",
       "      <th>From</th>\n",
       "      <th>To</th>\n",
       "      <th>Subject</th>\n",
       "      <th>Body</th>\n",
       "      <th>id</th>\n",
       "    </tr>\n",
       "  </thead>\n",
       "  <tbody>\n",
       "    <tr>\n",
       "      <th>39</th>\n",
       "      <td>Wed, 04 Oct 2023 09:06:13</td>\n",
       "      <td>\"The North Face\" &lt;reply@e.thenorthface.com&gt;</td>\n",
       "      <td>&lt;alex.k.korte@gmail.com&gt;</td>\n",
       "      <td>Explore new terrain with Summit Series</td>\n",
       "      <td>The North FaceGear built to reach your full po...</td>\n",
       "      <td>341bacd6-a51e-4170-9ef5-14923fc6ab21</td>\n",
       "    </tr>\n",
       "  </tbody>\n",
       "</table>\n",
       "</div>"
      ],
      "text/plain": [
       "                         Date                                         From  \\\n",
       "39  Wed, 04 Oct 2023 09:06:13  \"The North Face\" <reply@e.thenorthface.com>   \n",
       "\n",
       "                          To                                 Subject  \\\n",
       "39  <alex.k.korte@gmail.com>  Explore new terrain with Summit Series   \n",
       "\n",
       "                                                 Body  \\\n",
       "39  The North FaceGear built to reach your full po...   \n",
       "\n",
       "                                      id  \n",
       "39  341bacd6-a51e-4170-9ef5-14923fc6ab21  "
      ]
     },
     "execution_count": 26,
     "metadata": {},
     "output_type": "execute_result"
    }
   ],
   "source": [
    "collection_query = emails_collection.query(query_texts=[\"trees\"])\n",
    "df.loc[df['id'] == collection_query['ids'][0][0]]"
   ]
  },
  {
   "cell_type": "code",
   "execution_count": 31,
   "metadata": {},
   "outputs": [
    {
     "data": {
      "text/plain": [
       "502"
      ]
     },
     "execution_count": 31,
     "metadata": {},
     "output_type": "execute_result"
    }
   ],
   "source": [
    "len(emails_collection.get(include=['embeddings'])['ids'])"
   ]
  }
 ],
 "metadata": {
  "kernelspec": {
   "display_name": "Python 3",
   "language": "python",
   "name": "python3"
  },
  "language_info": {
   "codemirror_mode": {
    "name": "ipython",
    "version": 3
   },
   "file_extension": ".py",
   "mimetype": "text/x-python",
   "name": "python",
   "nbconvert_exporter": "python",
   "pygments_lexer": "ipython3",
   "version": "3.10.13"
  }
 },
 "nbformat": 4,
 "nbformat_minor": 2
}
