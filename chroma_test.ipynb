{
 "cells": [
  {
   "cell_type": "code",
   "execution_count": 2,
   "metadata": {},
   "outputs": [
    {
     "name": "stderr",
     "output_type": "stream",
     "text": [
      "/Users/stelath/micromamba/envs/ml/lib/python3.10/site-packages/tqdm/auto.py:21: TqdmWarning: IProgress not found. Please update jupyter and ipywidgets. See https://ipywidgets.readthedocs.io/en/stable/user_install.html\n",
      "  from .autonotebook import tqdm as notebook_tqdm\n"
     ]
    }
   ],
   "source": [
    "import uuid\n",
    "import chromadb\n",
    "import pandas as pd\n",
    "from tqdm.auto import tqdm\n",
    "\n",
    "from chromadb.utils import embedding_functions\n",
    "default_ef = embedding_functions.DefaultEmbeddingFunction()"
   ]
  },
  {
   "cell_type": "code",
   "execution_count": 3,
   "metadata": {},
   "outputs": [],
   "source": [
    "client = chromadb.Client()\n",
    "emails_collection = client.create_collection('emails', embedding_function=default_ef)"
   ]
  },
  {
   "cell_type": "code",
   "execution_count": 4,
   "metadata": {},
   "outputs": [],
   "source": [
    "\n",
    "# Load the emails\n",
    "df = pd.read_parquet('emails.parquet')\n",
    "# create a new column 'ids' and fill it with random uuids\n",
    "df['id'] = [str(uuid.uuid4()) for _ in range(len(df))]"
   ]
  },
  {
   "cell_type": "code",
   "execution_count": null,
   "metadata": {},
   "outputs": [],
   "source": [
    "for i, row in tqdm(df.iterrows(), total=len(df)):\n",
    "    embeddings = default_ef(row['Body'])\n",
    "    emails_collection.add(\n",
    "        embeddings=embeddings,\n",
    "        id=row['id'],\n",
    "    )"
   ]
  },
  {
   "cell_type": "code",
   "execution_count": 5,
   "metadata": {},
   "outputs": [],
   "source": [
    "embeddings = default_ef(\"how are you doing today?\")"
   ]
  },
  {
   "cell_type": "code",
   "execution_count": 6,
   "metadata": {},
   "outputs": [
    {
     "data": {
      "text/plain": [
       "24"
      ]
     },
     "execution_count": 6,
     "metadata": {},
     "output_type": "execute_result"
    }
   ],
   "source": [
    "len(embeddings)"
   ]
  },
  {
   "cell_type": "code",
   "execution_count": 7,
   "metadata": {},
   "outputs": [],
   "source": [
    "emails_collection.add(\n",
    "    documents=[\"testing testing 123!\"],\n",
    "    ids=[str(uuid.uuid4())],\n",
    ")"
   ]
  },
  {
   "cell_type": "code",
   "execution_count": 8,
   "metadata": {},
   "outputs": [],
   "source": [
    "emails_collection.add(\n",
    "    documents=[df['Body'][0]],\n",
    "    ids=[str(uuid.uuid4())],\n",
    ")"
   ]
  },
  {
   "cell_type": "code",
   "execution_count": 16,
   "metadata": {},
   "outputs": [
    {
     "name": "stderr",
     "output_type": "stream",
     "text": [
      "Number of requested results 10 is greater than number of elements in index 2, updating n_results = 2\n"
     ]
    },
    {
     "data": {
      "text/plain": [
       "(384, 384)"
      ]
     },
     "execution_count": 16,
     "metadata": {},
     "output_type": "execute_result"
    }
   ],
   "source": [
    "collection_query = emails_collection.query(query_texts=[\"I love to eat tickets\"], include=['embeddings'])\n",
    "len(collection_query['embeddings'][0][0]), len(collection_query['embeddings'][0][1])"
   ]
  },
  {
   "cell_type": "code",
   "execution_count": 22,
   "metadata": {},
   "outputs": [
    {
     "data": {
      "text/plain": [
       "\"Life's an event. We have the tickets. \\n\\n\\n <https://seatgeek.com> \\n\\n Upcoming events for Alex  <https://seatgeek.com> \\n\\nFeatured Event \\n\\nThis Weekend \\n Miami FC at Charleston Battery <https://seatgeek.com/e/events/5909284> \\nSat, Oct 7 \\nPatriots Point \\n\\n Find tickets  <https://seatgeek.com/e/events/5909284> \\n\\n\\n Luke Bryan <https://seatgeek.com/e/events/5928399> \\nSat, Oct 28 \\nCredit One Stadium \\n\\n Find tickets  <https://seatgeek.com/e/events/5928399> \\n\\n\\n Willie Nelson & Family <https://seatgeek.com/e/events/6097284> \\nThu, Oct 19 \\nFirefly Distillery \\n\\n Find tickets  <https://seatgeek.com/e/events/6097284> \\n\\n\\n Steve Martin <https://seatgeek.com/e/events/5956815> \\nSun, Oct 15 \\nNorth Charleston Performing Arts Center \\n\\n Find tickets  <https://seatgeek.com/e/events/5956815> \\n\\n\\n VMI Keydets at Citadel Bulldogs Football \\n<https://seatgeek.com/e/events/5922717> \\nSat, Oct 14 \\nJohnson Hagood Stadium \\n\\n Find tickets  <https://seatgeek.com/e/events/5922717> \\n\\n\\n Yelawolf <https://seatgeek.com/e/events/6128421> \\nThu, Oct 5 \\nCharleston Music Hall \\n\\n Find tickets  <https://seatgeek.com/e/events/6128421> \\n\\n\\n Gregory Alan Isakov <https://seatgeek.com/e/events/6000265> \\nWed, Oct 11 \\nFirefly Distillery \\n\\n Find tickets  <https://seatgeek.com/e/events/6000265> \\n\\n\\n <https://seatgeek.onelink.me/RrnK/sjqfs7zh> \\n\\nConnect your accounts \\nConnect your favorite music streaming accounts to instantly follow all of your \\nfavorites. \\n\\nConnect <https://seatgeek.onelink.me/RrnK/sjqfs7zh> \\n\\n\\n\\nÂ© 2023 SeatGeek, Inc.\\n\\nPrivacy Policy <https://seatgeek.com/privacy> | Terms of Use \\n<https://seatgeek.com/terms> | Help & Support <https://seatgeek.com/help>\\n\\n902 Broadway, Fl 10, New York, NY 10010 <>\\n\\nIf you believe this has been sent to you in error, please safely unsubscribe \\n<https://links.seatgeek.com/e/eh?_t=85fa5219c9324209acb16d68527d57b4&_m=05b3d12729434995b274c41d871f187a&_e=LqUdKVy79KLuJ91tFHH_4mWaFLnl45XA7HqyTfNBxUkeZS33p2CrNSjqFI6kjzyigTduz1zrI4ItyjNlnVRRWitA9-S4LXj1pzQbjuVthiAi5mJAS-bujMtEFiTjb-cJIRdqxyyDPOyromkWXPosoBFk0pVnBPQJrO9lie3bA27E6c6oCcBvCj8aIA7lhWL5YBQj0BguzPzdUss1qW6a2kMfgWurMStl7BwgpEkBvawyd5CuyI-BhGehko8moQpI3ZiguIMgf1a5mxv0LbVPsT2UNTYcP8xrpe8wqQcTeLVenFJ71355BlkWhH5cksW-oN7NMAo51v-aUlodtN51TFVB8_B1M81r2xNKK6utbtAt923HYt-nkHw4wYrzLJsF>\""
      ]
     },
     "execution_count": 22,
     "metadata": {},
     "output_type": "execute_result"
    }
   ],
   "source": [
    "body_test"
   ]
  }
 ],
 "metadata": {
  "kernelspec": {
   "display_name": "Python 3",
   "language": "python",
   "name": "python3"
  },
  "language_info": {
   "codemirror_mode": {
    "name": "ipython",
    "version": 3
   },
   "file_extension": ".py",
   "mimetype": "text/x-python",
   "name": "python",
   "nbconvert_exporter": "python",
   "pygments_lexer": "ipython3",
   "version": "3.10.13"
  }
 },
 "nbformat": 4,
 "nbformat_minor": 2
}
